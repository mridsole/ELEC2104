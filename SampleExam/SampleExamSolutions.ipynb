{
 "cells": [
  {
   "cell_type": "markdown",
   "metadata": {},
   "source": [
    "# ELEC2104 Sample Exam Solutions"
   ]
  },
  {
   "cell_type": "code",
   "execution_count": 1,
   "metadata": {
    "collapsed": true
   },
   "outputs": [],
   "source": [
    "# define some constants\n",
    "k_B = 1.38066e-23   # J/K\n",
    "q = 1.60218e-19   # C\n",
    "mu_n = 1450   # cm^2 / (V s)\n",
    "mu_p = 505\n",
    "n_i = 9.65e+9   # cm^-3\n",
    "\n",
    "import numpy as np\n",
    "import sympy as S\n",
    "from IPython.display import display, HTML\n",
    "\n",
    "def parallel(r1, r2):\n",
    "    return (r1 * r2) / (r1 + r2)\n",
    "\n",
    "S.init_printing(use_latex='mathjax')"
   ]
  },
  {
   "cell_type": "markdown",
   "metadata": {},
   "source": [
    "## Part 1: Multiple Choice"
   ]
  },
  {
   "cell_type": "markdown",
   "metadata": {},
   "source": [
    "### 1. Silicon Semiconductors\n",
    "\n",
    "**You are asked to create a n-type silicon bar with a resistance of $40 \\:\\Omega$. You are given that $N_A = 10^{13} \\textrm{ cm}^{-3}$. Choose the combination of $L$ and $A$ that implements the required resistance. Use the relevant values from the formula sheet.**\n",
    "\n",
    "We have that the resistivity is (from the formula sheet):\n",
    "\n",
    "$$ \\sigma = \\frac {1} {\\rho} = \\frac {1} {q(\\mu_n n + \\mu_p p)} $$\n",
    "\n",
    "The resistance of the bar is given by:\n",
    "\n",
    "$$ R = \\sigma \\frac {L} {A} = \\frac {L} {Aq(\\mu_n n + \\mu_p p)} $$\n",
    "\n",
    "This gives:\n",
    "\n",
    "$$ \\frac {L} {A} = Rq(\\mu_n n + \\mu_p p)$$\n",
    "\n",
    "Note that $p$ can be calculated according to the law of mass action, \n",
    "\n",
    "$$ p = \\frac {n_i^2} {n} $$\n",
    "\n",
    "Subbing in values:"
   ]
  },
  {
   "cell_type": "code",
   "execution_count": 2,
   "metadata": {
    "collapsed": false
   },
   "outputs": [
    {
     "name": "stdout",
     "output_type": "stream",
     "text": [
      "L on A: 0.0929265 cm^-1\n"
     ]
    }
   ],
   "source": [
    "n = 1e+13\n",
    "p = n_i ** 2 / n\n",
    "\n",
    "L_on_A = 40 * q * (mu_n * n + mu_p * p)\n",
    "print('L on A: %g cm^-1' % L_on_A)"
   ]
  },
  {
   "cell_type": "markdown",
   "metadata": {},
   "source": [
    "So the answer is **(a)**."
   ]
  },
  {
   "cell_type": "markdown",
   "metadata": {},
   "source": [
    "### 2. PN Junctions 1\n",
    "\n",
    "** A PN junction consists of a p-type silicon portion with acceptor concentration $N_A$ and an n-type silicon portion with donor concentration $N_D$. If the built-in voltage is $0.7 \\textrm{ V}$, and the impurity concentrations are equal, how does the donor concentration $N_D$ relate to temperature? Use the relevant values from the formula sheet. **\n",
    "\n",
    "Use: \n",
    "\n",
    "$$ V_{bi} = \\frac {k_B T} {q} ln(\\frac {N_A N_D} {n_i^2}) $$\n",
    "\n",
    "Using the fact that the impurity concentrations are equal (so $N_A = N_D$) and rearranging, we get:\n",
    "\n",
    "$$ \\frac {N_D^2} {n_i^2} = \\exp( \\frac {V_{bi} q} {k_B T} ) $$\n",
    "\n",
    "$$ N_D = n_i \\sqrt{ \\exp( \\frac{V_{bi} q} {k_B T} ) } $$\n",
    "\n",
    "$$ N_D = n_i \\exp ( \\frac{ V_{bi} q} {2 k_B T} ) $$\n",
    "\n",
    "Computing the value in the exponent:"
   ]
  },
  {
   "cell_type": "code",
   "execution_count": 3,
   "metadata": {
    "collapsed": false,
    "scrolled": true
   },
   "outputs": [
    {
     "data": {
      "text/latex": [
       "$$39194030029116.51$$"
      ],
      "text/plain": [
       "39194030029116.51"
      ]
     },
     "execution_count": 3,
     "metadata": {},
     "output_type": "execute_result"
    }
   ],
   "source": [
    "n_i * (0.7 * q) / (2 * k_B)"
   ]
  },
  {
   "cell_type": "markdown",
   "metadata": {},
   "source": [
    "So the answer is **(c)**."
   ]
  },
  {
   "cell_type": "markdown",
   "metadata": {},
   "source": [
    "### 3. PN Junctions 2\n",
    "\n",
    "**Compute the capacitance of the depletion region of a PN junction with $N_A = 10^{17} \\textrm{ cm}^{-3}$ and $N_D = 10^{18} \\textrm{ cm}^{-3}$ when no bias voltage is applied to the junction.**\n",
    "\n",
    "The capacitance is given by:\n",
    "\n",
    "$$ C = \\frac {\\epsilon_s} {W} $$\n",
    "\n",
    "So we should first compute the depletion width:\n",
    "\n",
    "$$W = \\sqrt { \\frac {2\\epsilon_s} {q} (\\frac {1} {N_A} + \\frac {1} {N_D})V_{bi} } $$\n",
    "\n",
    "(since there is no biasing/forward voltage)\n",
    "\n",
    "So, we also need to calculate the built-in voltage, given by:\n",
    "\n",
    "$$ V_{bi} = \\frac {k_B T} {q} \\log( \\frac {N_A N_D} {n_i ^2} ) $$\n",
    "\n",
    "These are all pretty straightforward:"
   ]
  },
  {
   "cell_type": "code",
   "execution_count": 4,
   "metadata": {
    "collapsed": false
   },
   "outputs": [
    {
     "name": "stdout",
     "output_type": "stream",
     "text": [
      "Capacitance: 9.26067e-08 F\n"
     ]
    }
   ],
   "source": [
    "V_bi = k_B * 300 / q * np.log(1e+17 * 1e+18 / n_i ** 2)\n",
    "perm_s = 8.85418e-14 * 11.9\n",
    "W = np.sqrt( (2 * perm_s / q) * (1 / 1e+17 + 1 / 1e+18) * V_bi)\n",
    "C = perm_s / W\n",
    "\n",
    "print('Capacitance: %g F' % C)"
   ]
  },
  {
   "cell_type": "markdown",
   "metadata": {},
   "source": [
    "So the answer is **(d)** - in an actual exam the only real difficulty with this question would be actually calculating all the required values."
   ]
  },
  {
   "cell_type": "markdown",
   "metadata": {},
   "source": [
    "### 4. Diode Circuits 1\n",
    "\n",
    "Select the answer that correctly lists the states of the diodes in the below circuit. Use the constant voltage model, with $V_{on} = 0.7 \\textrm { V}$.\n",
    "\n",
    "<img src='Q4.png' />\n",
    "\n",
    "Assume that all diodes are ON:\n",
    "\n",
    "<img src='Q4_sol.png' width=30% />\n",
    "\n",
    "The nodal analysis equations are:\n",
    "\n",
    "$$ \\frac {12 - v_1} {1000} = \\frac {v_1 - 0.7 - (v_2 + 0.7)} {100} + \\frac {v_1 - 0.7 - v_2} {50} $$\n",
    "\n",
    "and \n",
    "\n",
    "$$ \\frac {12 - v_1} {1000} = \\frac {v_2} {60} $$\n",
    "\n",
    "Solve these equations to obtain: \n",
    "\n",
    "$v_1 = 1.8780 \\textrm { V}$ and $v_2 = 0.60732 \\textrm { V}$\n",
    "\n",
    "For this state to be valid, all of the diode currents must be in the correct direction. For this, we require that $v_1 - 0.7 - v_2 > 0$ and $v_1 - 0.7 - (v_2 + 0.7) > 0$. The second inequality isn't satisfied, so this is not the correct state.\n",
    "\n",
    "Now try D1 ON, D2 OFF and D3 OFF.The equivalent circuit is:\n",
    "\n",
    "<img src='Q4_sol2.png' width=30% />\n",
    "\n",
    "To find $v_1$, solve the nodal analysis equation:\n",
    "\n",
    "$$ \\frac {12 - (v_1 + 0.7)} {1000} = \\frac {v_1} {110} $$\n",
    "\n",
    "The result is $v_1 = 1.120 \\textrm { V}$. Clearly the current through D1 is in the right direction, so that requirement is satisfied. We must also check that the voltage drop across the two diodes is less than $1.4 \\textrm { V}$.\n",
    "\n",
    "We also find that $v_3 = 0.611$ and $v_2 = 1.820$, so that the voltage drop across the two diodes is $1.22 \\textrm{ V} < 1.4 \\textrm { V}$, as required, so the answer is **(b)**.\n",
    "\n",
    "<br>"
   ]
  },
  {
   "cell_type": "markdown",
   "metadata": {},
   "source": [
    "### 5. Diode Circuits 2\n",
    "\n",
    "**Select the correct statement about the circuit.**\n",
    "\n",
    "<img src='Q5.png' />\n",
    "\n",
    "The answer is **(c)**, i.e. the circuit is a voltage limiter. To see why, consider the three different states of the diodes. "
   ]
  },
  {
   "cell_type": "markdown",
   "metadata": {},
   "source": [
    "### 6. Bipolar Junction Transistors 1 - Conceptual Operation\n",
    "\n",
    "**Select the correct statement about the function of bipolar junction transistors.**\n",
    "\n",
    "The answer is **(d)**. "
   ]
  },
  {
   "cell_type": "markdown",
   "metadata": {},
   "source": [
    "### 7. Bipolar Junction Transistors 2\n",
    "\n",
    "The small signal model circuit is:\n",
    "\n",
    "<img src='Q7_sol.png' width=20% />\n",
    "\n",
    "Performing nodal analysis on $v_{in}$ gives:\n",
    "\n",
    "$$ i_{in} = \\frac {v_{in}} {R_1} + \\frac {v_{in}} {r_{\\pi}} + g_m v_{in} $$\n",
    "\n",
    "So that the input resistance is:\n",
    "\n",
    "$$ R_{in} = \\frac {v_{in}} {i_{in}} = \\frac {1} {\\frac{1}{R_1} + \\frac{1}{r_{\\pi}} + g_m } = \\frac {1} {\\frac{1}{R_1} + \\frac{g_m} {\\beta} + g_m } $$\n",
    "\n",
    "So the answer is **(a)**."
   ]
  },
  {
   "cell_type": "markdown",
   "metadata": {},
   "source": [
    "### 8. Bipolar Junction Transistors 3\n",
    "\n",
    "**Assuming the BJT is operating in the forward-active region, which equation correctly describes the circuit? $I_C$ is the current going in to the collector and $V_{BE}$ is the voltage of the base with respect to the emitter.**\n",
    "\n",
    "<img src='Q8.png' />\n",
    "\n",
    "The answer is **(c)**. To see why, perform nodal analysis at the collector."
   ]
  },
  {
   "cell_type": "markdown",
   "metadata": {},
   "source": [
    "### 9. MOSFETs 1 - Conceptual Operation\n",
    "\n",
    "**Select the correct statement about the operation of MOSFETs.**\n",
    "\n",
    "The correct answer is **(a)**."
   ]
  },
  {
   "cell_type": "markdown",
   "metadata": {},
   "source": [
    "### 10. MOSFETs 2\n",
    "\n",
    "**For the circuit below, assume $W/L = 50$, $\\mu_n C_{ox} = 200 \\: \\mu\\textrm{A/V}^2$, $V_{DD} = 1.8 \\textrm{ V}$, and $V_{th} = 0.4 \\textrm{ V}$. Find the operating point. Note: the transistor shown is an n-channel MOSFET.**\n",
    "\n",
    "<img src='Q10.png' />"
   ]
  },
  {
   "cell_type": "code",
   "execution_count": 5,
   "metadata": {
    "collapsed": false
   },
   "outputs": [
    {
     "name": "stdout",
     "output_type": "stream",
     "text": [
      "v_GS solutions: \n"
     ]
    },
    {
     "data": {
      "text/latex": [
       "$$\\left [ -2.0709304414677, \\quad 0.8709304414677\\right ]$$"
      ],
      "text/plain": [
       "[-2.0709304414677, 0.8709304414677]"
      ]
     },
     "metadata": {},
     "output_type": "display_data"
    },
    {
     "name": "stdout",
     "output_type": "stream",
     "text": [
      "V_DS > V_P: True\n",
      "So the operating point is: \n",
      "V_GS: 0.87093 V, I_D: 1.10888 mA\n"
     ]
    }
   ],
   "source": [
    "W_on_L = 50\n",
    "beta = W_on_L * 200e-6\n",
    "V_DD = 1.8\n",
    "V_th = 0.4\n",
    "\n",
    "R_1 = 50e+3\n",
    "R_2 = 60e+3\n",
    "R_3 = 500\n",
    "R_4 = 100\n",
    "\n",
    "v_GS = S.symbols('v_GS', real=True)\n",
    "\n",
    "# assuming saturation\n",
    "I_D = (beta / 2) * (v_GS - V_th) ** 2\n",
    "eqn1 = v_GS - (R_2 / (R_1 + R_2)) * V_DD + I_D * R_4\n",
    "v_GS_solns = S.solve(eqn1, v_GS)\n",
    "\n",
    "print('v_GS solutions: ')\n",
    "display(v_GS_solns)\n",
    "\n",
    "# only the second case makes sense\n",
    "I_D = I_D.subs(v_GS, v_GS_solns[1])\n",
    "\n",
    "# check to see if it satisfies the inequality V_DS > V_P\n",
    "V_DS = V_DD - I_D * R_3 - I_D * R_4\n",
    "V_P = v_GS_solns[1] - V_th\n",
    "print('V_DS > V_P: %s' % (V_DS > V_P))\n",
    "\n",
    "print('So the operating point is: ')\n",
    "print('V_GS: %g V, I_D: %g mA' % (v_GS_solns[1], I_D * 1e+3))"
   ]
  },
  {
   "cell_type": "markdown",
   "metadata": {},
   "source": [
    "So the answer is **(c)**."
   ]
  },
  {
   "cell_type": "markdown",
   "metadata": {},
   "source": [
    "### 11. Second Order Sections 1\n",
    "\n",
    "**Which transfer function does the circuit below implement?**\n",
    "\n",
    "<img src='Q11.png' />"
   ]
  },
  {
   "cell_type": "markdown",
   "metadata": {
    "collapsed": true
   },
   "source": [
    "Solve it with SymPy:"
   ]
  },
  {
   "cell_type": "code",
   "execution_count": 6,
   "metadata": {
    "collapsed": false
   },
   "outputs": [
    {
     "name": "stdout",
     "output_type": "stream",
     "text": [
      "The transfer function is: \n"
     ]
    },
    {
     "data": {
      "text/latex": [
       "$$\\frac{\\left(C_{1} R_{1} R_{3} s + R_{1} + R_{3}\\right) \\left(C_{2} R_{2} R_{4} s + R_{2} + R_{4}\\right)}{R_{3} R_{4} \\left(C_{1} R_{1} s + 1\\right) \\left(C_{2} R_{2} s + 1\\right)}$$"
      ],
      "text/plain": [
       "(C₁⋅R₁⋅R₃⋅s + R₁ + R₃)⋅(C₂⋅R₂⋅R₄⋅s + R₂ + R₄)\n",
       "─────────────────────────────────────────────\n",
       "      R₃⋅R₄⋅(C₁⋅R₁⋅s + 1)⋅(C₂⋅R₂⋅s + 1)      "
      ]
     },
     "metadata": {},
     "output_type": "display_data"
    }
   ],
   "source": [
    "s, v_in, v_out, v_1 = S.symbols('s v_in v_out v_1')\n",
    "R_1, R_2, R_3, R_4, C_1, C_2 = S.symbols('R_1 R_2 R_3 R_4 C_1 C_2')\n",
    "\n",
    "Z_1 = parallel(R_1, 1 / (s * C_1))\n",
    "Z_2 = parallel(R_2, 1 / (s * C_2))\n",
    "\n",
    "eqn1 = v_in / R_3 - (v_1 - v_in) / Z_1\n",
    "eqn2 = v_1 / R_4 - (v_out - v_1) / Z_2\n",
    "\n",
    "T = S.solve([eqn1, eqn2], [v_1, v_out])[v_out] / v_in\n",
    "\n",
    "print('The transfer function is: ')\n",
    "display(T.simplify())"
   ]
  },
  {
   "cell_type": "markdown",
   "metadata": {},
   "source": [
    "So the answer is **(a)**."
   ]
  },
  {
   "cell_type": "markdown",
   "metadata": {},
   "source": [
    "### 12. Second Order Sections 2\n",
    "\n",
    "**Select the correct statement about the second order filter circuit shown below.**\n",
    "\n",
    "<img src='Q12.png' />"
   ]
  },
  {
   "cell_type": "markdown",
   "metadata": {},
   "source": [
    "The total input impedance is:\n",
    "\n",
    "$$ Z = R + \\frac {1} {sC} + sL = \\frac {1} {sC} (LCs^2 + RCs + 1) $$\n",
    "\n",
    "So the output voltage is:\n",
    "\n",
    "$$ v_{out} = IsL = \\frac {v_{in}} {Z} sL $$\n",
    "\n",
    "So the transfer function is:\n",
    "\n",
    "$$ T(s) = \\frac {sL} {\\frac {1} {sC} (LCs^2 + RCs + 1)} = \\frac {s^2} {s^2 + \\frac {R} {L} s + \\frac {1} {LC}} $$\n",
    "\n",
    "This is a high-filter, and the resonant frqeuency can be read from the denominator - so the answer is **(c)**."
   ]
  },
  {
   "cell_type": "markdown",
   "metadata": {},
   "source": [
    "## Part 2: Free Answer"
   ]
  },
  {
   "cell_type": "markdown",
   "metadata": {},
   "source": [
    "Will upload solutions for Q13-15 soon"
   ]
  },
  {
   "cell_type": "markdown",
   "metadata": {},
   "source": [
    "### 16. First Order Filter Design\n",
    "\n",
    "Design an active first-order low-pass filter that provides a DC voltage gain of 40 dB, with a cut-off frequency of 1 kHz. You may use an ideal op amp, two resistors, and one capacitor, which can only be either 470 nF or 10 nF. Your transfer function should be of the form:\n",
    "\n",
    "$$ T(s) = A \\frac { \\frac {s} {\\omega_1} + 1} {\\frac {s} {\\omega_2} + 1} $$"
   ]
  },
  {
   "cell_type": "markdown",
   "metadata": {},
   "source": [
    "There are multiple valid answers - try this configuration:\n",
    "\n",
    "<img src='Q16_sol.png' />\n",
    "\n",
    "let:\n",
    "\n",
    "$$ Z = R_1 \\: || \\: \\frac {1} {sC_1} = \\frac {R_1} {R_1 C_1 s + 1} $$\n",
    "\n",
    "then:\n",
    "\n",
    "$$ \\frac {v_{in}} {R_2} = \\frac {v_{out} - v_{in}} {Z_1} \\implies \\frac {v_{out}} {v_{in}} = \\frac{2R_1} {R_2} \\frac {\\frac{R_1C_1}{2} s + 1} {R_1 C_1 s + 1} $$\n",
    "\n",
    "So that we have these two equations,from the requirements:\n",
    "\n",
    "$$ \\frac {1} {R_1 C_1} = 2 \\pi \\times 1000 $$\n",
    "\n",
    "$$ \\frac{2R_1} {R_2} = 10 ^ {\\frac {40} {20}} = 100  $$\n",
    "\n",
    "Choosing $C_1 = 1 \\textrm{ nF}$, we get:\n",
    "\n",
    "$R_1 = 15915 \\: \\Omega$ and $R_2 = 318 \\: \\Omega$."
   ]
  },
  {
   "cell_type": "markdown",
   "metadata": {},
   "source": [
    "### 17. MOSFET Logic Design\n",
    "\n",
    "Design a CMOS circuit to implement the following logic function:\n",
    "\n",
    "$$ V_{out} = ((A + B) \\cdot C + D) \\cdot \\bar{E} $$\n",
    "\n",
    "Annotate each transistor with it's appropriate $W/L$ value - use $(W/L)_n = 2/2$ and $(W/L)_p = 4/2$.\n",
    "\n",
    "A simple implementation is given by:\n",
    "\n",
    "<img src='Q17_sol.png' width=50% />"
   ]
  }
 ],
 "metadata": {
  "kernelspec": {
   "display_name": "Python 3",
   "language": "python",
   "name": "python3"
  },
  "language_info": {
   "codemirror_mode": {
    "name": "ipython",
    "version": 3
   },
   "file_extension": ".py",
   "mimetype": "text/x-python",
   "name": "python",
   "nbconvert_exporter": "python",
   "pygments_lexer": "ipython3",
   "version": "3.4.3"
  }
 },
 "nbformat": 4,
 "nbformat_minor": 0
}
