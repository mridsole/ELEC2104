{
 "cells": [
  {
   "cell_type": "markdown",
   "metadata": {},
   "source": [
    "# ELEC2104 Sample Exam\n",
    "\n",
    "This is just a bunch of questions based on the topics Brock posted - it's probably easier than the actual exam. "
   ]
  },
  {
   "cell_type": "markdown",
   "metadata": {},
   "source": [
    "## Part 1: Multiple Choice"
   ]
  },
  {
   "cell_type": "markdown",
   "metadata": {},
   "source": [
    "### 1. Silicon Semiconductors\n",
    "\n",
    "**You are asked to create a n-type silicon bar with a resistance of $40 \\:\\Omega$. You are given that $N_A = 10^{13} \\textrm{ cm}^{-3}$. Choose the combination of $L$ and $A$ that implements the required resistance. Use the relevant values from the formula sheet.**\n",
    "\n",
    "**(a) $A = 1 \\textrm{ cm}^2$, $L = 0.0929265 \\textrm{ cm}$ **<br>\n",
    "**(b) $A = 1 \\textrm{ cm}^2$, $L = 2.1254377 \\textrm{ cm}$ **<br>\n",
    "**(c) $A = 5 \\textrm{ cm}^2$, $L = 0.0929265 \\textrm{ cm}$ **<br>\n",
    "**(d) $A = 5 \\textrm{ cm}^2$, $L = 2.1254377 \\textrm{ cm}$ **"
   ]
  },
  {
   "cell_type": "markdown",
   "metadata": {},
   "source": [
    "### 2. PN Junctions 1\n",
    "\n",
    "** A PN junction consists of a p-type silicon portion with acceptor concentration $N_A$ and an n-type silicon portion with donor concentration $N_D$. If the built-in voltage is $0.7 \\textrm{ V}$, and the impurity concentrations are equal, how does the donor concentration $N_D$ relate to temperature? Use the relevant values from the formula sheet. **\n",
    "\n",
    "**(a) $N_D = 6.02 \\times 10^{-18} \\log(4061.6\\: / \\: T) $**<br>\n",
    "**(b) $N_D = 9.65 \\times 10^9 \\log(195.12\\: / \\: T) $**<br>\n",
    "**(c) $N_D = 9.65 \\times 10^9 \\exp(4061.6\\: / \\: T) $**<br>\n",
    "**(d) $N_D = 6.02 \\times 10^{-18} \\exp(4061.6\\: / \\: T) $**"
   ]
  },
  {
   "cell_type": "markdown",
   "metadata": {},
   "source": [
    "### 3. PN Junctions 2\n",
    "\n",
    "**Compute the capacitance of the depletion region of a PN junction at $T = 300 \\textrm{ K}$ with $N_A = 10^{17} \\textrm{ cm}^{-3}$ and $N_D = 10^{18} \\textrm{ cm}^{-3}$ when no bias voltage is applied to the junction.**\n",
    "\n",
    "**(a) $C = 127 \\textrm{ nF} $**<br>\n",
    "**(b) $C = 5.12 \\textrm{ nF} $**<br>\n",
    "**(c) $C = 13.5 \\textrm{ nF} $**<br>\n",
    "**(d) $C = 92.6 \\textrm{ nF} $**<br>"
   ]
  },
  {
   "cell_type": "markdown",
   "metadata": {},
   "source": [
    "### 4. Diode Circuits 1\n",
    "\n",
    "**Select the answer that correctly lists the states of the diodes in the below circuit. Use the constant voltage model, with $V_{on} = 0.7 \\textrm { V}$.**\n",
    "\n",
    "<img src='Q4.png' />\n",
    "\n",
    "**(a) D1: OFF, D2: ON, D3: ON**<br>\n",
    "**(b) D1: ON, D2: OFF, D3: OFF**<br>\n",
    "**(c) D1: ON, D2: ON, D3: ON**<br>\n",
    "**(d) D1: OFF, D2: OFF, D3: OFF**"
   ]
  },
  {
   "cell_type": "markdown",
   "metadata": {},
   "source": [
    "### 5. Diode Circuits 2\n",
    "\n",
    "**Select the correct statement about the circuit.**\n",
    "\n",
    "<img src='Q5.png' />\n",
    "\n",
    "**(a)** The circuit is a voltage doubler. <br>\n",
    "**(b)** The circuit is a half-wave rectifier. <br>\n",
    "**(c)** The circuit is a voltage limiter. <br>\n",
    "**(d)** The circuit is a positive waveform shifter, followed by a peak detector. <br>"
   ]
  },
  {
   "cell_type": "markdown",
   "metadata": {},
   "source": [
    "### 6. Bipolar Junction Transistors 1 - Conceptual Operation\n",
    "\n",
    "**Select the correct statement about the function of bipolar junction transistors.**\n",
    "\n",
    "**(a)** An NPN BJT is composed of two PN junctions, and is functionally equivalent to two diodes placed back to back in series.<br>\n",
    "**(b)** The IV characteristic of an NPN BJT is symmetric in the collector and emitter terminals - if the connections to the collector and emitter terminals are swapped, the same IV curve will be observed for a given base current.<br>\n",
    "**(c)** In an NPN BJT, the collector is typically doped much heavier than the emitter or base regions. <br> \n",
    "**(d)** In an NPN BJT, during forward-active operation, the collector-base junction is reverse-biased, creating a large electric field that sweeps the electrons from the emitter to the collector. "
   ]
  },
  {
   "cell_type": "markdown",
   "metadata": {},
   "source": [
    "### 7. Bipolar Junction Transistors 2\n",
    "\n",
    "**Find the small-signal input resistance of the following circuit, assuming that the early voltage is infinity for the BJT.**\n",
    "\n",
    "<img src='Q7.png'/>\n",
    "\n",
    "**(a)** $$ R = \\frac {1} { \\frac {1} {R_1} + \\frac {g_m} {\\beta} + g_m } $$<br>\n",
    "**(b)** $$ R = \\frac {1} { \\frac {1} {r_{\\pi}} + \\frac {r_{\\pi}} {\\beta} + g_m } $$<br>\n",
    "**(c)** $$ R = R_1 \\: || \\: (\\frac {\\beta + 1} {\\beta} r_{\\pi}) $$<br>\n",
    "**(d)** $$ R = r_{\\pi} \\: || \\: (\\frac {\\beta + 1} {\\beta} R_1) $$<br>"
   ]
  },
  {
   "cell_type": "markdown",
   "metadata": {},
   "source": [
    "### 8. Bipolar Junction Transistors 3\n",
    "\n",
    "**Assuming the BJT is operating in the forward-active region, which equation correctly describes the circuit? $I_C$ is the current going in to the collector and $V_{BE}$ is the voltage of the base with respect to the emitter.**\n",
    "\n",
    "<img src='Q8.png' />\n",
    "\n",
    "**(a)** $ V_{BE} = 2.5 R_1 - I_S \\exp(V_{BE} \\: / \\: V_T) $ <br>\n",
    "**(b)** $ V_{BE} = 2.5 \\frac {\\beta + 1} {\\beta} - R_1 I_S \\exp(V_{BE} \\: / \\: V_T) $ <br>\n",
    "**(c)** $ V_{BE} = 2.5 - R_1 \\frac {\\beta + 1} {\\beta} I_S \\exp(V_{BE} \\: / \\: V_T) $ <br>\n",
    "**(d)** $ V_{BE} = 2.5 - R_1 I_S \\exp(V_{BE} \\: / \\: V_T) $ <br>"
   ]
  },
  {
   "cell_type": "markdown",
   "metadata": {},
   "source": [
    "### 9. MOSFETs 1 - Conceptual Operation\n",
    "\n",
    "**Select the correct statement about the operation of MOSFETs.**\n",
    "\n",
    "**(a)** As the drain voltage increases past the pinch off voltage, the MOSFET enters the saturation region, and the effective channel length is reduced.<br>\n",
    "**(b)** MOSFETs have undesirable internal capacitances, which are linear functions of the voltages at the device terminals.<br>\n",
    "**(c)** The effects of channel-length modulation increase with the length of the transistor.<br>\n",
    "**(d)** When the substrate is at a different voltage to the source terminal, the pinch-off voltage increases while the threshold voltage remains constant - this is known as the body effect.<br>"
   ]
  },
  {
   "cell_type": "markdown",
   "metadata": {},
   "source": [
    "### 10. MOSFETs 2\n",
    "\n",
    "**For the circuit below, assume $W/L = 50$, $\\mu_n C_{ox} = 200 \\: \\mu\\textrm{A/V}^2$, $V_{DD} = 1.8 \\textrm{ V}$, and $V_{th} = 0.4 \\textrm{ V}$. Find the operating point. Note: the transistor shown is an n-channel MOSFET.**\n",
    "\n",
    "<img src='Q10.png' />\n",
    "\n",
    "**(a)** $V_{GS} = 0.5412 \\textrm{ V}$, $I_D = 5.4191 \\textrm{ mA}$ <br>\n",
    "**(b)** $V_{GS} = 0.9451 \\textrm{ V}$, $I_D = 5.4191 \\textrm{ mA}$ <br>\n",
    "**(c)** $V_{GS} = 0.8709 \\textrm{ V}$, $I_D = 1.1089 \\textrm{ mA}$ <br>\n",
    "**(d)** $V_{GS} = 0.5412 \\textrm{ V}$, $I_D = 1.1089 \\textrm{ mA}$ <br>"
   ]
  },
  {
   "cell_type": "markdown",
   "metadata": {},
   "source": [
    "### 11. Second Order Sections 1\n",
    "\n",
    "**Which transfer function does the circuit below implement?**\n",
    "\n",
    "<img src='Q11.png' />\n",
    "\n",
    "**(a)** $$ T = \\frac {(C_1R_1R_3s+R_1+R_3)(C_2R_2R_4s+R_2+R_4)} {R_3R_4(C_1R_1s+1)(C_2R_2s+1)} $$\n",
    "\n",
    "**(b)** $$ T = \\frac {(C_2R_1R_3s+R_1+R_3)(C_1R_2R_4s+R_2+R_4)} {R_3R_4(C_1R_1s+1)(C_2R_2s+1)} $$\n",
    "\n",
    "**(c)** $$ T = \\frac {(R_3R_4s+R_1+R_3)(R_3R_4s+R_2+R_4)} {R_3R_4(C_1R_1s+1)(C_2R_2s+1)} $$\n",
    "\n",
    "**(a)** $$ T = \\frac {(C_1R_1R_3s+R_4)(C_2R_2R_4s+R_3)} {R_3R_4(C_1R_1s+R_2+R_4+1)(C_2R_2s+R_1+R_3+1)} $$"
   ]
  },
  {
   "cell_type": "markdown",
   "metadata": {},
   "source": [
    "### 12. Second Order Sections 2\n",
    "\n",
    "**Select the correct statement about the second order filter circuit shown below.**\n",
    "\n",
    "<img src='Q12.png' />\n",
    "\n",
    "**(a)** The circuit shown is a band-pass filter with resonant frequency:\n",
    "\n",
    "$$ \\omega_0 = \\sqrt{RC} $$\n",
    "\n",
    "**(b)** The circuit shown is a band-pass filter with resonant frequency:\n",
    "\n",
    "$$ \\omega_0 = \\frac {1} {\\sqrt{RLC}} $$\n",
    "\n",
    "**(c)** The circuit shown is a high-pass filter with resonant frequency:\n",
    "\n",
    "$$ \\omega_0 = \\frac {1} {\\sqrt{LC}} $$\n",
    "\n",
    "**(d)** The circuit shown is a high-pass filter, which has no resonant frequency."
   ]
  },
  {
   "cell_type": "markdown",
   "metadata": {},
   "source": [
    "## Part 2: Free Answer"
   ]
  },
  {
   "cell_type": "markdown",
   "metadata": {},
   "source": [
    "### 13. Transistor Circuits - Small Signal Analysis\n",
    "\n",
    "For the emitter follower amplifier shown below, assuming the BJTs are operating in the forward-active region, and neglecting the Early effect, find:\n",
    "\n",
    "**(a)** The small signal input impedance<br>\n",
    "**(b)** The small signal output impedance<br>\n",
    "**(c)** The small signal gain<br>\n",
    "\n",
    "<img src='Q13.png' />"
   ]
  },
  {
   "cell_type": "markdown",
   "metadata": {},
   "source": [
    "### 14. BJT Circuit Design\n",
    "\n",
    "**(a)** Explain the purpose and effects of emitter degeneration.\n",
    "\n",
    "**(b)** Given that $\\beta = 100$, $I_S = 5 \\times 10^{-16}$ and $V_{CC} = 2.5 \\textrm{ V}$, design (choose resistor values) the common emitter amplifier below so that $I_C = 1 \\textrm{ mA}$, $V_E = 400 \\textrm{ mV}$, the input impedance is greater than $2 \\textrm{ k}\\Omega$, and the gain is $20$. For the small-signal analysis, you may assume that the frequency is high enough that the capacitors become short circuits.\n",
    "\n",
    "<img src='Q14.png' />"
   ]
  },
  {
   "cell_type": "markdown",
   "metadata": {},
   "source": [
    "### 15. MOSFET Circuit Design\n",
    "\n",
    "Given that $\\mu_nC_{ox} = 100 \\: \\mu A/V^2$, $V_{th} = 0.5 \\textrm{ V}$, $\\lambda = 0$, $V_{DD} = 1.8 \\textrm{ V}$ and $R_G = 50 \\textrm{k}\\Omega$, design the source follower amplifier below for a drain current of $1 \\textrm { mA}$ and a voltage gain of $0.8$. (Remember that the ratio $W/L$ is a parameter that may be chosen by the designer)\n",
    "\n",
    "<img src='Q15.png' />"
   ]
  },
  {
   "cell_type": "markdown",
   "metadata": {},
   "source": [
    "### 16. First Order Filter Design\n",
    "\n",
    "Design an active first-order low-pass filter that provides a DC voltage gain of 40 dB, with a cut-off frequency of 1 kHz. You may use an ideal op amp, two resistors, and one capacitor, which can only be either 470 nF or 10 nF. Your transfer function should be of the form:\n",
    "\n",
    "$$ T(s) = A \\frac { \\frac {s} {\\omega_1} + 1} {\\frac {s} {\\omega_2} + 1} $$"
   ]
  },
  {
   "cell_type": "markdown",
   "metadata": {},
   "source": [
    "### 17. MOSFET Logic Design\n",
    "\n",
    "Design a CMOS circuit to implement the following logic function:\n",
    "\n",
    "$$ V_{out} = ((A + B) \\cdot C + D) \\cdot \\bar{E} $$\n",
    "\n",
    "Annotate each transistor with it's appropriate $W/L$ value - use $(W/L)_n = 2/2$ and $(W/L)_p = 4/2$."
   ]
  }
 ],
 "metadata": {
  "kernelspec": {
   "display_name": "Python 3",
   "language": "python",
   "name": "python3"
  },
  "language_info": {
   "codemirror_mode": {
    "name": "ipython",
    "version": 3
   },
   "file_extension": ".py",
   "mimetype": "text/x-python",
   "name": "python",
   "nbconvert_exporter": "python",
   "pygments_lexer": "ipython3",
   "version": "3.4.3"
  }
 },
 "nbformat": 4,
 "nbformat_minor": 0
}
